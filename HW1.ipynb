{
 "cells": [
  {
   "cell_type": "markdown",
   "metadata": {},
   "source": [
    "### Write a program to extract terms from a document.\n",
    "You have to do:\n",
    "* Tokenization.  \n",
    "* Lowercasing everything.  \n",
    "* Stemming using Porter’s algorithm.  \n",
    "* Stopword removal.  \n",
    "* Save the result as a txt file. "
   ]
  },
  {
   "cell_type": "code",
   "execution_count": 76,
   "metadata": {},
   "outputs": [],
   "source": [
    "#從讀取檔案到製作token list，輸入檔案名稱\n",
    "def tokenize(x):\n",
    "    f = open(x, \"r\")\n",
    "    f = f.read() #讀取檔案\n",
    "    f = f.replace(\"\\n\", \"\") #將換行符號 \\n 換成空白\n",
    "    f = f.replace(\".\", \"\")\n",
    "    f = f.replace(\"'\", \"\")\n",
    "    f = f.lower() #把所有英文字母變成小寫\n",
    "    f = f.split(\" \") #以空白鍵分隔英文字  \n",
    "    return f\n",
    "token = tokenize(\"doc.txt\")"
   ]
  },
  {
   "cell_type": "code",
   "execution_count": 77,
   "metadata": {},
   "outputs": [],
   "source": [
    "#stemming函數把一個list中的元素全部stem，輸入list\n",
    "def stemming(x):\n",
    "    from nltk.stem.porter import PorterStemmer\n",
    "    pt = PorterStemmer()\n",
    "    f = []\n",
    "    for a in range(len(x)):\n",
    "        f.append(pt.stem(x[a]))\n",
    "    return f\n",
    "stem = stemming(token)"
   ]
  },
  {
   "cell_type": "code",
   "execution_count": 78,
   "metadata": {
    "scrolled": true
   },
   "outputs": [],
   "source": [
    "#製作移除stopwords函數，輸入token、stem過的list，跟一個stopwords的list\n",
    "def remove_stopwords(stem_token_txt, stopwords_list):\n",
    "    result = []\n",
    "    for n in range(len(stem_token_txt)):\n",
    "        if stem_token_txt[n] not in stopwords_list:\n",
    "            result.append(stem_token_txt[n])\n",
    "    return result\n",
    "#製作stopwords的list\n",
    "import nltk\n",
    "from nltk.corpus import stopwords\n",
    "stopwords_list = stopwords.words('english')\n",
    "#呼叫函數\n",
    "result = remove_stopwords(stem, stopwords_list)\n"
   ]
  },
  {
   "cell_type": "code",
   "execution_count": 79,
   "metadata": {},
   "outputs": [],
   "source": [
    "#寫成檔案\n",
    "def write_file(txt_list):\n",
    "    file = open(\"result.txt\",\"w\") \n",
    "    txt_string = \" \".join(txt_list) #把list中的txt元素結合成string\n",
    "    file.write(txt_string)\n",
    "    file.close()\n",
    "write_file(result)"
   ]
  }
 ],
 "metadata": {
  "kernelspec": {
   "display_name": "Python 3",
   "language": "python",
   "name": "python3"
  },
  "language_info": {
   "codemirror_mode": {
    "name": "ipython",
    "version": 3
   },
   "file_extension": ".py",
   "mimetype": "text/x-python",
   "name": "python",
   "nbconvert_exporter": "python",
   "pygments_lexer": "ipython3",
   "version": "3.7.1"
  }
 },
 "nbformat": 4,
 "nbformat_minor": 2
}
